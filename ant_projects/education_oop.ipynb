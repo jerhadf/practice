{
 "cells": [
  {
   "cell_type": "markdown",
   "metadata": {},
   "source": [
    "# OOP Education Management System\n",
    "\n",
    "Implements an object-oriented system for managing courses, students and grades. It demonstrates key OOP concepts like classes, inheritance, and encapsulation through a practical education management example. The implementation includes classes for Student, Course, and Grade entities with appropriate methods for enrollment, grade calculation, and student performance tracking."
   ]
  },
  {
   "cell_type": "code",
   "execution_count": null,
   "metadata": {},
   "outputs": [],
   "source": []
  }
 ],
 "metadata": {
  "language_info": {
   "name": "python"
  }
 },
 "nbformat": 4,
 "nbformat_minor": 2
}
