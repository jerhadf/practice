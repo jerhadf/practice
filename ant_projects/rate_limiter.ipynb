{
 "cells": [
  {
   "cell_type": "code",
   "execution_count": 2,
   "metadata": {},
   "outputs": [],
   "source": [
    "# \"Design and implement a rate limiter for an LLM API service. The service needs to:\n",
    "\n",
    "# Limit each user to 10 requests per minute\n",
    "# Handle concurrent requests\n",
    "# Work across multiple server instances\n",
    "# Maintain accurate counts even if some requests take >1 minute to process\""
   ]
  },
  {
   "cell_type": "code",
   "execution_count": 5,
   "metadata": {},
   "outputs": [],
   "source": [
    "import threading\n",
    "import time\n",
    "from collections import defaultdict, deque\n",
    "\n",
    "\n",
    "class RateLimiter:\n",
    "    def __init__(\n",
    "        self, max_requests, period\n",
    "    ):  # core properties of rate limit are the # of requests allowed in time period\n",
    "        self.max_requests = max_requests\n",
    "        self.period = period\n",
    "        self.lock = (\n",
    "            threading.Lock()\n",
    "        )  # lock to ensure thread safety - needed to avoid race conditions with concurrent requests\n",
    "        self.requests = defaultdict(\n",
    "            deque\n",
    "        )  # dictionary to store requests for each user, using deque to efficiently remove old requests\n",
    "        # example requests - {user_id: [1716604800.0, 1716604801.0, 1716604802.0], user_id2: [1716604800.0, 1716604801.0]}\n",
    "        # use deque rather than list so that we can efficiently remove old requests - O(1) time complexity for popleft()\n",
    "\n",
    "    def is_allowed(self, user_id):  # is the operation allowed (with rate limit)\n",
    "        with self.lock:  # once starts, all must happen together for thread safety\n",
    "            current_time = time.time()\n",
    "            if user_id in self.requests:  # if the user has made requests already\n",
    "                while (\n",
    "                    self.requests[user_id] and self.requests[user_id][0] <= current_time - self.period\n",
    "                ):  # while the older request is older than the time period, remove it\n",
    "                    self.requests[user_id].popleft()  # remove the oldest request from the user\n",
    "            if (\n",
    "                len(self.requests[user_id]) < self.max_requests\n",
    "            ):  # if the user has made less than the max requests in the time period, allow the request\n",
    "                self.requests[user_id].append(current_time)  # add the current request to the user's requests\n",
    "                return True  # request is allowed\n",
    "            else:\n",
    "                return False  # request is denied due to rate limiting\n",
    "\n",
    "\n",
    "rate_limiter = RateLimiter(5, 60)  # 100 requests per minute\n",
    "\n",
    "\n",
    "def handle_request(user_id):\n",
    "    if rate_limiter.is_allowed(user_id):\n",
    "        print(\n",
    "            f\"Request from user {user_id} is allowed. Their requests: {rate_limiter.requests[user_id]} (len {len(rate_limiter.requests[user_id])} < {rate_limiter.max_requests})\"\n",
    "        )\n",
    "    else:\n",
    "        print(\n",
    "            f\"Request from user {user_id} is denied due to rate limiting. Their requests: {rate_limiter.requests[user_id]} (len {len(rate_limiter.requests[user_id])} >= {rate_limiter.max_requests})\"\n",
    "        )"
   ]
  },
  {
   "cell_type": "code",
   "execution_count": 6,
   "metadata": {},
   "outputs": [
    {
     "name": "stdout",
     "output_type": "stream",
     "text": [
      "Request from user user1 is allowed. Their requests: deque([1732422515.3557131]) (len 1 < 5)\n",
      "Request from user user1 is allowed. Their requests: deque([1732422515.3557131, 1732422515.8608608]) (len 2 < 5)\n",
      "Request from user user1 is allowed. Their requests: deque([1732422515.3557131, 1732422515.8608608, 1732422516.3658729]) (len 3 < 5)\n",
      "Request from user user1 is allowed. Their requests: deque([1732422515.3557131, 1732422515.8608608, 1732422516.3658729, 1732422516.870552]) (len 4 < 5)\n",
      "Request from user user1 is allowed. Their requests: deque([1732422515.3557131, 1732422515.8608608, 1732422516.3658729, 1732422516.870552, 1732422517.376595]) (len 5 < 5)\n",
      "Request from user user1 is denied due to rate limiting. Their requests: deque([1732422515.3557131, 1732422515.8608608, 1732422516.3658729, 1732422516.870552, 1732422517.376595]) (len 5 >= 5)\n",
      "Request from user user1 is denied due to rate limiting. Their requests: deque([1732422515.3557131, 1732422515.8608608, 1732422516.3658729, 1732422516.870552, 1732422517.376595]) (len 5 >= 5)\n",
      "Request from user user1 is denied due to rate limiting. Their requests: deque([1732422515.3557131, 1732422515.8608608, 1732422516.3658729, 1732422516.870552, 1732422517.376595]) (len 5 >= 5)\n",
      "Request from user user1 is denied due to rate limiting. Their requests: deque([1732422515.3557131, 1732422515.8608608, 1732422516.3658729, 1732422516.870552, 1732422517.376595]) (len 5 >= 5)\n",
      "Request from user user1 is denied due to rate limiting. Their requests: deque([1732422515.3557131, 1732422515.8608608, 1732422516.3658729, 1732422516.870552, 1732422517.376595]) (len 5 >= 5)\n",
      "Request from user user1 is denied due to rate limiting. Their requests: deque([1732422515.3557131, 1732422515.8608608, 1732422516.3658729, 1732422516.870552, 1732422517.376595]) (len 5 >= 5)\n",
      "Request from user user1 is denied due to rate limiting. Their requests: deque([1732422515.3557131, 1732422515.8608608, 1732422516.3658729, 1732422516.870552, 1732422517.376595]) (len 5 >= 5)\n",
      "Request from user user1 is denied due to rate limiting. Their requests: deque([1732422515.3557131, 1732422515.8608608, 1732422516.3658729, 1732422516.870552, 1732422517.376595]) (len 5 >= 5)\n",
      "Request from user user1 is denied due to rate limiting. Their requests: deque([1732422515.3557131, 1732422515.8608608, 1732422516.3658729, 1732422516.870552, 1732422517.376595]) (len 5 >= 5)\n",
      "Request from user user1 is denied due to rate limiting. Their requests: deque([1732422515.3557131, 1732422515.8608608, 1732422516.3658729, 1732422516.870552, 1732422517.376595]) (len 5 >= 5)\n"
     ]
    }
   ],
   "source": [
    "# Simulate requests\n",
    "for i in range(15):\n",
    "    handle_request(\"user1\")\n",
    "    time.sleep(0.5)  # sleep 500ms between requests"
   ]
  }
 ],
 "metadata": {
  "kernelspec": {
   "display_name": "hume",
   "language": "python",
   "name": "python3"
  },
  "language_info": {
   "codemirror_mode": {
    "name": "ipython",
    "version": 3
   },
   "file_extension": ".py",
   "mimetype": "text/x-python",
   "name": "python",
   "nbconvert_exporter": "python",
   "pygments_lexer": "ipython3",
   "version": "3.11.7"
  }
 },
 "nbformat": 4,
 "nbformat_minor": 2
}
