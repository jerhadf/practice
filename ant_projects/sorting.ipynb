{
 "cells": [
  {
   "cell_type": "markdown",
   "metadata": {},
   "source": [
    "# Sorting Algorithms Implementation\n",
    "\n",
    "This notebook implements the 5 most commonly used sorting algorithms from scratch in Python:\n",
    "\n",
    "- Bubble Sort (O(n²))\n",
    "  - Simple but inefficient\n",
    "  - Good for teaching/learning\n",
    "\n",
    "- Selection Sort (O(n²))\n",
    "  - Simple implementation\n",
    "  - Performs well on small lists\n",
    "\n",
    "- Insertion Sort (O(n²))\n",
    "  - Efficient for small data sets\n",
    "  - Adaptive - efficient for data that is already substantially sorted\n",
    "\n",
    "- Merge Sort (O(n log n))\n",
    "  - Divide and conquer algorithm\n",
    "  - Stable sort with guaranteed O(n log n) performance\n",
    "\n",
    "- Quick Sort (O(n log n))\n",
    "  - Most popular and efficient general-purpose sort\n",
    "  - Average case O(n log n), worst case O(n²)\n",
    "\n",
    "Each implementation will include Python code from scratch and analysis of time/space complexity."
   ]
  },
  {
   "cell_type": "code",
   "execution_count": null,
   "metadata": {},
   "outputs": [],
   "source": []
  }
 ],
 "metadata": {
  "language_info": {
   "name": "python"
  }
 },
 "nbformat": 4,
 "nbformat_minor": 2
}
