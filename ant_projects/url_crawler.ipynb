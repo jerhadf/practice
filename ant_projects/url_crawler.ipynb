{
 "cells": [
  {
   "cell_type": "markdown",
   "metadata": {},
   "source": [
    "## URL Crawler\n",
    "1. Basic Implementation:\n",
    "   - Create synchronous crawler\n",
    "   - Handle basic URL parsing and fetching\n",
    "   - Implement depth limiting\n",
    "   - Handle duplicate URLs\n",
    "\n",
    "2. Advanced Implementation:\n",
    "   - Convert to asynchronous architecture\n",
    "   - Add concurrent crawling capabilities\n",
    "   - Implement rate limiting\n",
    "   - Handle failures gracefully\n",
    "\n",
    "3. Follow-up Questions:\n",
    "   - How would you handle distributed crawling?\n",
    "   - What are the tradeoffs between sync and async approaches?\n",
    "   - How would you respect robots.txt?\n",
    "   - How would you handle different content types?"
   ]
  },
  {
   "cell_type": "code",
   "execution_count": null,
   "metadata": {},
   "outputs": [],
   "source": []
  }
 ],
 "metadata": {
  "language_info": {
   "name": "python"
  }
 },
 "nbformat": 4,
 "nbformat_minor": 2
}
